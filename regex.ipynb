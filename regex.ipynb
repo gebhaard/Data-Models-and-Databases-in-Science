{
 "cells": [
  {
   "cell_type": "code",
   "execution_count": 1,
   "metadata": {},
   "outputs": [],
   "source": [
    "import pandas as pd\n",
    "import numpy as np\n",
    "import re"
   ]
  },
  {
   "cell_type": "code",
   "execution_count": 2,
   "metadata": {},
   "outputs": [
    {
     "name": "stderr",
     "output_type": "stream",
     "text": [
      "C:\\Users\\gebha\\AppData\\Local\\Temp\\ipykernel_1564\\4197921263.py:6: DtypeWarning: Columns (0) have mixed types. Specify dtype option on import or set low_memory=False.\n",
      "  shapes = pd.read_csv('./gtfs/shapes.txt')\n"
     ]
    }
   ],
   "source": [
    "agency = pd.read_csv('./gtfs/agency.txt')\n",
    "calendar_dates = pd.read_csv('./gtfs/calendar_dates.txt')\n",
    "feed_info = pd.read_csv('./gtfs/feed_info.txt')\n",
    "pathways = pd.read_csv('./gtfs/pathways.txt')\n",
    "routes = pd.read_csv('./gtfs/routes.txt')\n",
    "shapes = pd.read_csv('./gtfs/shapes.txt')\n",
    "stop_times = pd.read_csv('./gtfs/stop_times.txt')\n",
    "stops = pd.read_csv('./gtfs/stops.txt')\n",
    "trips = pd.read_csv('./gtfs/trips.txt')"
   ]
  },
  {
   "cell_type": "code",
   "execution_count": 3,
   "metadata": {},
   "outputs": [],
   "source": [
    "shapes['location'] = np.array(zip(shapes.shape_pt_lat, shapes.shape_pt_lon)) # create a location column from lat and lon for easier access\n",
    "stops['location'] = np.array(zip(stops.stop_lat, stops.stop_lon)) # create a location column from lat and lon for easier access"
   ]
  },
  {
   "cell_type": "code",
   "execution_count": 4,
   "metadata": {},
   "outputs": [],
   "source": [
    "stops['stop_name'] = [re.sub(\" [\\(\\[].*?[\\)\\]]\", \"\", str(i)) for i in stops.stop_name] # removing brackets and text inside\n",
    "stops['stop_name'] = [i.rstrip(' ') for i in stops.stop_name] # removing trailing spaces\n",
    "stops['stop_name'] = [i.rstrip('M') for i in stops.stop_name] # removing trailing M\n",
    "stops['stop_name'] = [i.rstrip('H') for i in stops.stop_name] # removing trailing H\n",
    "stops['stop_name'] = [i.rstrip('M+H') for i in stops.stop_name] # removing trailing M+H\n",
    "stops['stop_name'] = [i.rstrip(' ') for i in stops.stop_name] # removing trailing spaces"
   ]
  },
  {
   "cell_type": "code",
   "execution_count": 5,
   "metadata": {},
   "outputs": [],
   "source": [
    "stops.to_csv('./gtfs/stops.csv', index=False)\n",
    "shapes.to_csv('./gtfs/shapes.csv', index=False)"
   ]
  }
 ],
 "metadata": {
  "kernelspec": {
   "display_name": "Python 3.10.4 64-bit",
   "language": "python",
   "name": "python3"
  },
  "language_info": {
   "codemirror_mode": {
    "name": "ipython",
    "version": 3
   },
   "file_extension": ".py",
   "mimetype": "text/x-python",
   "name": "python",
   "nbconvert_exporter": "python",
   "pygments_lexer": "ipython3",
   "version": "3.10.4"
  },
  "orig_nbformat": 4,
  "vscode": {
   "interpreter": {
    "hash": "a8714357c48d45cc7670964ff2fdadce42a0a3477469aba91e0500e7f7666d05"
   }
  }
 },
 "nbformat": 4,
 "nbformat_minor": 2
}
